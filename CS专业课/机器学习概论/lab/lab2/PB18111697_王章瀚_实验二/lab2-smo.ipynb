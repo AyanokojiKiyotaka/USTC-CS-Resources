{
 "cells": [
  {
   "cell_type": "markdown",
   "metadata": {},
   "source": [
    "# SVM-SMO实现\n",
    "\n",
    "[参考链接](https://www.cnblogs.com/pinard/p/6111471.html)"
   ]
  },
  {
   "cell_type": "code",
   "execution_count": 97,
   "metadata": {},
   "outputs": [],
   "source": [
    "import numpy as np\n",
    "\n",
    "np.random.seed(0)\n",
    "\n",
    "data_src = 'svm'\n",
    "\n",
    "x_train = np.load('./data/{}/train_data.npy'.format(data_src))\n",
    "y_train = np.load('./data/{}/train_target.npy'.format(data_src))\n",
    "x_test = np.load('./data/{}/test_data.npy'.format(data_src))\n",
    "y_test = np.load('./data/{}/test_target.npy'.format(data_src))\n",
    "\n",
    "class LinearSVM:\n",
    "    def __init__(self, x_train, y_train, C=5.0, max_iter=100000):\n",
    "        self.x_train = x_train\n",
    "        self.y_train = y_train\n",
    "        self.C = C\n",
    "        self.alpha = np.random.randn(self.m)\n",
    "        self.b = np.random.randn(1) * x_train[:, 1].std(ddof=1) + x_train[:, 1].mean()\n",
    "        self.max_iter = max_iter\n",
    "        self.phi = lambda x: x\n",
    "        \n",
    "    def K(self, xi, xj):\n",
    "        return self.phi(xi) @ self.phi(xj)\n",
    "        \n",
    "    @property\n",
    "    def x_dim(self):\n",
    "        return len(self.x_train[0])\n",
    "    \n",
    "    @property\n",
    "    def m(self):\n",
    "        return self.x_train.shape[0]\n",
    "    \n",
    "    @property\n",
    "    def w(self):\n",
    "        w = np.zeros(self.x_dim)\n",
    "        for i in range(self.m):\n",
    "            w += self.alpha[i] * self.y_train[i] * self.x_train[i]\n",
    "        return w\n",
    "        \n",
    "    def f(self, x):\n",
    "        return x @ self.w + self.b\n",
    "        \n",
    "    def choose_i(self):\n",
    "        # 确定 i\n",
    "        ## 考虑 0 < alpha < C\n",
    "        where = np.where((0 < self.alpha) & (self.alpha < self.C))\n",
    "        if where[0].size != 0:\n",
    "            criterion = np.abs(self.y_train[where] * self.f(self.x_train[where]) - 1)\n",
    "            i_index_in_where = np.argmax(criterion)\n",
    "            if criterion[i_index_in_where] != 0:\n",
    "                return where[0][i_index_in_where]\n",
    "        ## 考虑 alpha == 0\n",
    "        where = np.where(self.alpha == 0)\n",
    "        if where[0].size != 0:\n",
    "            criterion = 1 - self.y_train[where] * self.f(self.x_train[where])\n",
    "            i_index_in_where = np.argmax(criterion)\n",
    "            if criterion[i_index_in_where] > 0:\n",
    "                return where[0][i_index_in_where]\n",
    "        ## 考虑 alpha == C\n",
    "        where = np.where(self.alpha == self.C)\n",
    "        if where[0].size != 0:\n",
    "            criterion = self.y_train[where] * self.f(self.x_train[where]) - 1\n",
    "            i_index_in_where = np.argmax(criterion)\n",
    "            if criterion[i_index_in_where] > 0:\n",
    "                return where[0][i_index_in_where]\n",
    "        return None\n",
    "        \n",
    "    def E(self, i=None):\n",
    "        if i is None:\n",
    "            return self.f(x_train) - y_train\n",
    "        else:\n",
    "            return self.f(x_train[i]) - y_train[i]\n",
    "        \n",
    "    def train(self):\n",
    "        for _ in range(self.max_iter):\n",
    "            # 确定 alpha_i\n",
    "            i = self.choose_i()\n",
    "            # i = np.random.choice(list(range(self.m)), 1)[0]\n",
    "            Ei = self.E(i=i)\n",
    "            max_delta = -np.inf\n",
    "            best_j = -1\n",
    "\n",
    "            # 确定 alpha_j\n",
    "            criterion = np.abs(np.array([Ei - self.E(i=j) for j in range(self.m)]))\n",
    "            criterion[i] = -1\n",
    "            j = np.argmax(criterion)\n",
    "            Ej = self.E(i=j)\n",
    "\n",
    "            # 求 K\n",
    "            Kii = self.K(self.x_train[i], self.x_train[i])\n",
    "            Kjj = self.K(self.x_train[j], self.x_train[j])\n",
    "            Kij = self.K(self.x_train[i], self.x_train[j])\n",
    "\n",
    "            # 求新的 alpha_i, alpha_j\n",
    "            new_alpha_j_unc = self.alpha[j] + self.y_train[j] * (Ei-Ej) / (Kii + Kjj - 2*Kij)\n",
    "            ## 求 L, H 以限制 0 <= alpha <= C\n",
    "            L = max(0, self.alpha[j]-self.alpha[i]) if self.y_train[i] != self.y_train[j] else max(0, self.alpha[j]+self.alpha[i]-self.C)\n",
    "            H = min(self.C, self.C+self.alpha[j]-self.alpha[i]) if self.y_train[i] != self.y_train[j] else min(self.C, self.alpha[j]+self.alpha[i])\n",
    "            ## 限制新的 alpha_j\n",
    "            new_alpha_j = H if new_alpha_j_unc > H else L if new_alpha_j_unc < L else new_alpha_j_unc\n",
    "            new_alpha_i = (self.alpha[i] * self.y_train[i] + self.alpha[j] * self.y_train[j] - new_alpha_j * self.y_train[j]) * self.y_train[i]\n",
    "\n",
    "            # 求新的 b\n",
    "            new_bi = -Ei - self.y_train[i] * Kii * (new_alpha_i - self.alpha[i]) - self.y_train[j] * Kij * (new_alpha_j - self.alpha[j]) + self.b\n",
    "            new_bj = -Ej - self.y_train[i] * Kij * (new_alpha_i - self.alpha[i]) - self.y_train[j] * Kjj * (new_alpha_j - self.alpha[j]) + self.b\n",
    "            self.b = (new_bi + new_bj) / 2\n",
    "\n",
    "            # 更新 alpha\n",
    "            self.alpha[i], self.alpha[j] = new_alpha_i, new_alpha_j\n",
    "                \n",
    "    def predict(self, x_test):\n",
    "        return np.sign(self.f(x_test))\n",
    "                \n",
    "    def test(self, x_test, y_test):\n",
    "        x_test = np.array(x_test)\n",
    "        p = self.predict(x_test)\n",
    "        acc = 1 - np.sum(np.abs(p - y_test)) / (2*self.m)\n",
    "        return p, acc\n",
    "\n",
    "    def get_xxyy(self, span):\n",
    "        xx = np.linspace(*span, int((span[1]-span[0])*100))\n",
    "        yy = (-self.b-self.w[0]*xx) / self.w[1]\n",
    "        return xx, yy"
   ]
  },
  {
   "cell_type": "code",
   "execution_count": 98,
   "metadata": {},
   "outputs": [
    {
     "name": "stdout",
     "output_type": "stream",
     "text": [
      "0.7571428571428571\n",
      "0.8642857142857143\n"
     ]
    }
   ],
   "source": [
    "np.random.seed(2020)\n",
    "            \n",
    "lsvm = LinearSVM(x_train, y_train, max_iter=200)\n",
    "\n",
    "lsvm.train()\n",
    "print(lsvm.test(x_train, y_train)[1])\n",
    "print(lsvm.test(x_test, y_test)[1])\n"
   ]
  },
  {
   "cell_type": "code",
   "execution_count": 99,
   "metadata": {},
   "outputs": [
    {
     "data": {
      "text/plain": [
       "[<matplotlib.lines.Line2D at 0x21c928aa108>]"
      ]
     },
     "execution_count": 99,
     "metadata": {},
     "output_type": "execute_result"
    },
    {
     "data": {
      "image/png": "[encoded data removed]",
      "text/plain": [
       "<Figure size 432x288 with 1 Axes>"
      ]
     },
     "metadata": {
      "needs_background": "light"
     },
     "output_type": "display_data"
    }
   ],
   "source": [
    "import matplotlib.pyplot as plt\n",
    "\n",
    "xx, yy = lsvm.get_xxyy((np.round(x_train[:, 0].min(), 2), np.round(x_train[:, 0].max(), 2)))\n",
    "plt.xlabel('x_train[0]', size=16)\n",
    "plt.ylabel('x_train[1]', size=16)\n",
    "plt.xticks(size=12)\n",
    "plt.yticks(size=12)\n",
    "red = np.where(y_train == 1)\n",
    "blue = np.where(y_train == -1)\n",
    "plt.scatter(x_train[red][:, 0], x_train[red][:, 1], c='red', label='y=1')\n",
    "plt.scatter(x_train[blue][:, 0], x_train[blue][:, 1], c='blue', label='y=-1')\n",
    "plt.legend()\n",
    "plt.xlim(np.round(x_train[:, 0].min(), 2) - 0.5, np.round(x_train[:, 0].max(), 2) + 0.5)\n",
    "plt.ylim(np.round(x_train[:, 1].min(), 2) - 0.5, np.round(x_train[:, 1].max(), 2) + 0.5)\n",
    "plt.plot(xx, yy, c='green')"
   ]
  },
  {
   "cell_type": "code",
   "execution_count": 100,
   "metadata": {},
   "outputs": [
    {
     "data": {
      "text/plain": [
       "[<matplotlib.lines.Line2D at 0x21c929632c8>]"
      ]
     },
     "execution_count": 100,
     "metadata": {},
     "output_type": "execute_result"
    },
    {
     "data": {
      "image/png": "[encoded data removed]",
      "text/plain": [
       "<Figure size 432x288 with 1 Axes>"
      ]
     },
     "metadata": {
      "needs_background": "light"
     },
     "output_type": "display_data"
    }
   ],
   "source": [
    "import matplotlib.pyplot as plt\n",
    "\n",
    "xx, yy = lsvm.get_xxyy((int(np.floor(x_train[:, 0].min())), int(np.ceil(x_train[:, 0].max()))))\n",
    "plt.xlabel('x_test[0]', size=16)\n",
    "plt.ylabel('x_test[1]', size=16)\n",
    "plt.xticks(size=12)\n",
    "plt.yticks(size=12)\n",
    "red = np.where(y_test == 1)\n",
    "blue = np.where(y_test == -1)\n",
    "plt.scatter(x_test[red][:, 0], x_test[red][:, 1], c='red', label='y=1')\n",
    "plt.scatter(x_test[blue][:, 0], x_test[blue][:, 1], c='blue', label='y=-1')\n",
    "plt.legend()\n",
    "plt.xlim(np.round(x_train[:, 0].min(), 2) - 0.5, np.round(x_train[:, 0].max(), 2) + 0.5)\n",
    "plt.ylim(np.round(x_train[:, 1].min(), 2) - 0.5, np.round(x_train[:, 1].max(), 2) + 0.5)\n",
    "plt.plot(xx, yy, c='green')"
   ]
  },
  {
   "cell_type": "code",
   "execution_count": 103,
   "metadata": {},
   "outputs": [
    {
     "name": "stdout",
     "output_type": "stream",
     "text": [
      "0.7142857142857143\n",
      "0.6666666666666666\n"
     ]
    }
   ],
   "source": [
    "from sklearn.svm import LinearSVC\n",
    "lsvc = LinearSVC(max_iter=100000, C=5)\n",
    "lsvc.fit(x_train, y_train)\n",
    "print(lsvc.score(x_train, y_train))\n",
    "print(lsvc.score(x_test, y_test))"
   ]
  }
 ],
 "metadata": {
  "kernelspec": {
   "display_name": "Python 3",
   "language": "python",
   "name": "python3"
  },
  "language_info": {
   "codemirror_mode": {
    "name": "ipython",
    "version": 3
   },
   "file_extension": ".py",
   "mimetype": "text/x-python",
   "name": "python",
   "nbconvert_exporter": "python",
   "pygments_lexer": "ipython3",
   "version": "3.7.9"
  }
 },
 "nbformat": 4,
 "nbformat_minor": 4
}
