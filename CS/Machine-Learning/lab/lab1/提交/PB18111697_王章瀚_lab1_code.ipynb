{
 "cells": [
  {
   "cell_type": "code",
   "execution_count": 243,
   "metadata": {},
   "outputs": [
    {
     "name": "stderr",
     "output_type": "stream",
     "text": [
      "<ipython-input-243-044147297436>:70: RuntimeWarning: overflow encountered in exp\n",
      "  expxbeta = np.exp(-self.x_train[i] @ self.beta)\n",
      "<ipython-input-243-044147297436>:19: RuntimeWarning: overflow encountered in exp\n",
      "  return 1/(1+np.exp(-x @ self.beta))\n",
      "<ipython-input-243-044147297436>:23: RuntimeWarning: divide by zero encountered in log\n",
      "  return -np.sum([self.y_train[i] * np.log(p[i]) + (1-self.y_train[i]) * np.log(p[i])\n",
      "<ipython-input-243-044147297436>:23: RuntimeWarning: invalid value encountered in multiply\n",
      "  return -np.sum([self.y_train[i] * np.log(p[i]) + (1-self.y_train[i]) * np.log(p[i])\n"
     ]
    },
    {
     "name": "stdout",
     "output_type": "stream",
     "text": [
      "0.9714285714285714\n",
      "0.9333333333333333\n"
     ]
    }
   ],
   "source": [
    "import numpy as np\n",
    "\n",
    "x_train = np.load(\"./data/LR/train_data.npy\")\n",
    "y_train = np.load(\"./data/LR/train_target.npy\")\n",
    "x_test = np.load(\"./data/LR/test_data.npy\")\n",
    "y_test = np.load(\"./data/LR/test_target.npy\")\n",
    "\n",
    "class LogitRegression:\n",
    "    def __init__(self, x_train, y_train, alpha=0.2, epoch=-1, tol=1e-2, model='GD'):\n",
    "        self.x_train = x_train\n",
    "        self.y_train = y_train\n",
    "        self.beta = np.ones(x_train.shape[1])\n",
    "        self.alpha = alpha\n",
    "        self.epoch = epoch\n",
    "        self.tol = tol\n",
    "        self.model = model\n",
    "        \n",
    "    def probability(self, x):\n",
    "        return 1/(1+np.exp(-x @ self.beta))\n",
    "    \n",
    "    def loss_J(self):\n",
    "        p = self.probability(self.x_train)\n",
    "        return -np.sum([self.y_train[i] * np.log(p[i]) + (1-self.y_train[i]) * np.log(p[i])\n",
    "                        for i in range(len(self.y_train))])\n",
    "    \n",
    "    @property\n",
    "    def m(self):\n",
    "        return len(self.y_train)\n",
    "    \n",
    "    @property\n",
    "    def d(self):\n",
    "        return self.x_train.shape[1]\n",
    "    \n",
    "    def train(self):\n",
    "        # stop by tol\n",
    "        loss = []\n",
    "        if self.model == 'GD':\n",
    "            if self.epoch == -1:\n",
    "                while True:\n",
    "                    grad = np.zeros(self.x_train.shape)\n",
    "                    for i in range(self.m):\n",
    "                        grad[i] = (1/(1+np.exp(-self.x_train[i] @ self.beta)) - self.y_train[i]) * self.x_train[i]\n",
    "                    delta = self.alpha * grad.mean(axis=0)\n",
    "                    self.beta -= delta\n",
    "                    if np.abs(delta).mean() < self.tol:\n",
    "                        break\n",
    "                return\n",
    "\n",
    "            # stop by epoch\n",
    "            for _ in range(self.epoch):\n",
    "                grad = np.zeros(self.x_train.shape)\n",
    "                loss.append(self.loss_J())\n",
    "                for i in range(self.m):\n",
    "                    grad[i] = (1/(1+np.exp(-self.x_train[i] @ self.beta)) - self.y_train[i]) * self.x_train[i]\n",
    "                self.beta -= self.alpha * grad.mean(axis=0)\n",
    "            return loss\n",
    "        elif self.model == 'SGD':\n",
    "            # stop by epoch\n",
    "            for _ in range(self.epoch):\n",
    "                loss.append(self.loss_J())\n",
    "                i = int(np.random.uniform(low=0, high=self.m-1, size=1))\n",
    "                grad = (1/(1+np.exp(-self.x_train[i] @ self.beta)) - self.y_train[i]) * self.x_train[i]\n",
    "                self.beta -= self.alpha * grad\n",
    "            return loss\n",
    "        elif self.model == 'newton':\n",
    "            # stop by epoch\n",
    "            for _ in range(self.epoch):\n",
    "                loss.append(self.loss_J())\n",
    "                for i in range(self.m):\n",
    "                    expxbeta = np.exp(-self.x_train[i] @ self.beta)\n",
    "                    grad = (1/(1+expxbeta) - self.y_train[i]) * self.x_train[i]\n",
    "                    gradd = (1/(1+expxbeta)) * (1-(1/(1+expxbeta))) * self.x_train.T @ self.x_train + np.eye(self.d) * 0.001\n",
    "                    self.beta -= self.alpha * np.linalg.inv(gradd) @ grad\n",
    "            return loss\n",
    "            \n",
    "    def test(self, x_test, y_test):\n",
    "        x_test = np.array(x_test)\n",
    "        p = self.probability(x_test)\n",
    "        acc = 1-np.sum(np.abs([float(round(i)) for i in lr.probability(x_test)] - y_test)) / len(y_test)\n",
    "        return p, acc\n",
    "    \n",
    "    def get_xxyy(self, span):\n",
    "        xx = np.linspace(*span, (span[1]-span[0])*100)\n",
    "        yy = (-self.beta[0]-self.beta[1]*xx) / self.beta[2]\n",
    "        return xx, yy\n",
    "\n",
    "lr = LogitRegression(x_train, y_train, alpha=0.1, epoch=200, model='newton')\n",
    "loss = lr.train()\n",
    "\n",
    "print(lr.test(x_train, y_train)[1])\n",
    "print(lr.test(x_test, y_test)[1])"
   ]
  },
  {
   "cell_type": "code",
   "execution_count": 238,
   "metadata": {},
   "outputs": [
    {
     "data": {
      "text/plain": [
       "[<matplotlib.lines.Line2D at 0x2ad3af6a970>]"
      ]
     },
     "execution_count": 238,
     "metadata": {},
     "output_type": "execute_result"
    },
    {
     "data": {
      "image/png": "[encoded data removed]",
      "text/plain": [
       "<Figure size 432x288 with 1 Axes>"
      ]
     },
     "metadata": {
      "needs_background": "light"
     },
     "output_type": "display_data"
    }
   ],
   "source": [
    "import matplotlib.pyplot as plt\n",
    "\n",
    "plt.xlabel('iteration', size=16)\n",
    "plt.ylabel('loss', size=16)\n",
    "plt.xticks(size=12)\n",
    "plt.yticks(size=12)\n",
    "xx = np.linspace(0, len(loss), len(loss))\n",
    "plt.plot(xx, loss, c='green')"
   ]
  },
  {
   "cell_type": "code",
   "execution_count": 239,
   "metadata": {},
   "outputs": [
    {
     "data": {
      "text/plain": [
       "[<matplotlib.lines.Line2D at 0x2ad3afd80d0>]"
      ]
     },
     "execution_count": 239,
     "metadata": {},
     "output_type": "execute_result"
    },
    {
     "data": {
      "image/png": "[encoded data removed]",
      "text/plain": [
       "<Figure size 432x288 with 1 Axes>"
      ]
     },
     "metadata": {
      "needs_background": "light"
     },
     "output_type": "display_data"
    }
   ],
   "source": [
    "import matplotlib.pyplot as plt\n",
    "\n",
    "xx, yy = lr.get_xxyy((-4, 3))\n",
    "plt.xlabel('x_train[1]', size=16)\n",
    "plt.ylabel('x_train[2]', size=16)\n",
    "plt.xticks(size=12)\n",
    "plt.yticks(size=12)\n",
    "red = np.where(y_train == 1)\n",
    "blue = np.where(y_train == 0)\n",
    "plt.scatter(x_train[red][:, 1], x_train[red][:, 2], c='red', label='y=1')\n",
    "plt.scatter(x_train[blue][:, 1], x_train[blue][:,2], c='blue', label='y=0')\n",
    "plt.legend()\n",
    "plt.plot(xx, yy, c='green')"
   ]
  },
  {
   "cell_type": "code",
   "execution_count": 240,
   "metadata": {},
   "outputs": [
    {
     "data": {
      "text/plain": [
       "[<matplotlib.lines.Line2D at 0x2ad3b02fe80>]"
      ]
     },
     "execution_count": 240,
     "metadata": {},
     "output_type": "execute_result"
    },
    {
     "data": {
      "image/png": "[encoded data removed]",
      "text/plain": [
       "<Figure size 432x288 with 1 Axes>"
      ]
     },
     "metadata": {
      "needs_background": "light"
     },
     "output_type": "display_data"
    }
   ],
   "source": [
    "import matplotlib.pyplot as plt\n",
    "\n",
    "xx, yy = lr.get_xxyy((-4, 3))\n",
    "plt.xlabel('x_test[1]', size=16)\n",
    "plt.ylabel('x_test[2]', size=16)\n",
    "plt.xticks(size=12)\n",
    "plt.yticks(size=12)\n",
    "red = np.where(y_test == 1)\n",
    "blue = np.where(y_test == 0)\n",
    "plt.scatter(x_test[red][:, 1], x_test[red][:, 2], c='red', label='y=1')\n",
    "plt.scatter(x_test[blue][:, 1], x_test[blue][:,2], c='blue', label='y=0')\n",
    "plt.legend()\n",
    "plt.plot(xx, yy, c='green')"
   ]
  },
  {
   "cell_type": "code",
   "execution_count": 199,
   "metadata": {},
   "outputs": [
    {
     "name": "stdout",
     "output_type": "stream",
     "text": [
      "0.9571428571428572\n",
      "0.9333333333333333\n"
     ]
    }
   ],
   "source": [
    "from sklearn.linear_model import LogisticRegression\n",
    "clf = LogisticRegression(max_iter=100, solver='newton-cg').fit(x_train, y_train)\n",
    "\n",
    "print(clf.score(x_train, y_train))\n",
    "print(clf.score(x_test, y_test))"
   ]
  }
 ],
 "metadata": {
  "kernelspec": {
   "display_name": "Python 3",
   "language": "python",
   "name": "python3"
  },
  "language_info": {
   "codemirror_mode": {
    "name": "ipython",
    "version": 3
   },
   "file_extension": ".py",
   "mimetype": "text/x-python",
   "name": "python",
   "nbconvert_exporter": "python",
   "pygments_lexer": "ipython3",
   "version": "3.8.3"
  }
 },
 "nbformat": 4,
 "nbformat_minor": 4
}
